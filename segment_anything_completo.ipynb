{
  "nbformat": 4,
  "nbformat_minor": 0,
  "metadata": {
    "colab": {
      "provenance": [],
      "gpuType": "T4",
      "authorship_tag": "ABX9TyOJz7WUGHC8lBlY59A3It5a",
      "include_colab_link": true
    },
    "kernelspec": {
      "name": "python3",
      "display_name": "Python 3"
    },
    "language_info": {
      "name": "python"
    },
    "accelerator": "GPU"
  },
  "cells": [
    {
      "cell_type": "markdown",
      "metadata": {
        "id": "view-in-github",
        "colab_type": "text"
      },
      "source": [
        "<a href=\"https://colab.research.google.com/github/MiguelUrenaPliego/labTopoSAM/blob/main/segment_anything_completo.ipynb\" target=\"_parent\"><img src=\"https://colab.research.google.com/assets/colab-badge.svg\" alt=\"Open In Colab\"/></a>"
      ]
    },
    {
      "cell_type": "code",
      "execution_count": null,
      "metadata": {
        "id": "cIqrPGIL4tbi"
      },
      "outputs": [],
      "source": [
        "%pip install segment-geospatial groundingdino-py leafmap localtileserver"
      ]
    },
    {
      "cell_type": "code",
      "source": [
        "import leafmap\n",
        "from samgeo import tms_to_geotiff, split_raster\n",
        "from samgeo.text_sam import LangSAM"
      ],
      "metadata": {
        "id": "e4vZP5m74zEH"
      },
      "execution_count": null,
      "outputs": []
    },
    {
      "cell_type": "code",
      "source": [
        "m = leafmap.Map(center=[43.2294769, -7.5824514], zoom=17, height=\"800px\") # center=[lat, lon]\n",
        "m.add_basemap(\"SATELLITE\")\n",
        "m.add_basemap(\"HYBRID\")\n",
        "m"
      ],
      "metadata": {
        "id": "f4kNXDOF48A3"
      },
      "execution_count": null,
      "outputs": []
    },
    {
      "cell_type": "code",
      "source": [
        "if m.user_roi_bounds() is not None:\n",
        "    bbox = m.user_roi_bounds()\n",
        "else:\n",
        "    bbox = \"No has seleccionado nada\"\n",
        "    print(\"No has seleccionado nada\")\n",
        "    #bbox = [-122.2659, 37.8682, -122.2521, 37.8741]\n",
        "bbox"
      ],
      "metadata": {
        "id": "E4pN7_xj4-NB"
      },
      "execution_count": null,
      "outputs": []
    },
    {
      "cell_type": "code",
      "source": [
        "image = \"satellite.tif\"\n",
        "tms_to_geotiff(output=image, bbox=bbox, zoom=20, source=\"Satellite\", overwrite=True)"
      ],
      "metadata": {
        "id": "4YOnm-x05BDz"
      },
      "execution_count": null,
      "outputs": []
    },
    {
      "cell_type": "markdown",
      "source": [
        "### Opción 2: Cargar imágenes desde archivo local\n",
        "Puedes cargar tu propia imagen escribiendo la ruta. Debe ser un formato .tif con 3 canales R (rojo) G (verde) B (azul)"
      ],
      "metadata": {
        "id": "I8Q9n52K5O0S"
      }
    },
    {
      "cell_type": "code",
      "source": [
        "# image = '/path/to/your/own/image.tif'"
      ],
      "metadata": {
        "id": "hh0Rn7Va5Lhc"
      },
      "execution_count": null,
      "outputs": []
    },
    {
      "cell_type": "markdown",
      "source": [
        "###Vemos las imágenes cargadas sobre el mapa"
      ],
      "metadata": {
        "id": "h9c2Snmw5QEN"
      }
    },
    {
      "cell_type": "code",
      "source": [
        "m.layers[-1].visible = False #Si da error vuelve a ejecutar la celda de nuevo\n",
        "m.add_raster(image, layer_name=\"Image\")\n",
        "m"
      ],
      "metadata": {
        "id": "aZUMKA9b5EYh"
      },
      "execution_count": null,
      "outputs": []
    },
    {
      "cell_type": "markdown",
      "source": [
        "###Opcinal: *separar imágenes grandes en partes*"
      ],
      "metadata": {
        "id": "QboNLW0X5Vw4"
      }
    },
    {
      "cell_type": "code",
      "source": [
        "split_raster(image, out_dir=\"tiles\", tile_size=(1000, 1000), overlap=0)"
      ],
      "metadata": {
        "id": "PfGcr-yf40zU"
      },
      "execution_count": null,
      "outputs": []
    },
    {
      "cell_type": "markdown",
      "source": [
        "## Inicialización de SAM\n",
        "SAM segment anything es un modelo de segmentación de imágenes desarrollado por meta https://github.com/facebookresearch/segment-anything . Tiene una versión especial para imágenes satélite https://samgeo.gishub.org/ .\n",
        "\n",
        "Para que el procesamiento sea rápido requiere una GPU. En google collab lo hemos configurado ya en el primer paso.\n",
        "\n",
        "Descargamos SamGeo (Puede tardar unos minutos dependiendo de tu internet)"
      ],
      "metadata": {
        "id": "-DCmJ6Co5sG5"
      }
    },
    {
      "cell_type": "markdown",
      "source": [
        "Inicialización del modelo"
      ],
      "metadata": {
        "id": "PlzhN1Bj5vJw"
      }
    },
    {
      "cell_type": "code",
      "source": [
        "sam = LangSAM()"
      ],
      "metadata": {
        "id": "QgSRfGiz5pjN"
      },
      "execution_count": null,
      "outputs": []
    },
    {
      "cell_type": "markdown",
      "source": [
        "Especifica la clase que quieres segmentar"
      ],
      "metadata": {
        "id": "teHq4sjj5z_l"
      }
    },
    {
      "cell_type": "code",
      "source": [
        "text_prompt = \"building roof\""
      ],
      "metadata": {
        "id": "OeLBx1lR5prh"
      },
      "execution_count": null,
      "outputs": []
    },
    {
      "cell_type": "markdown",
      "source": [
        "## Segmentación de la imagen\n",
        "\n",
        "El resultado se guarda en el formato GEOtiff\n",
        "\n",
        "box_threshold [0,1] tolerancia de deteccion. Valores altos dan lugar a detecciones muy seguras pero probablemente se pasen por alto bastantes elementos. valores bajos dan lugar a detecciones menos seguras con riesgo de detectar mal algunos elementos.\n",
        "\n",
        "text_threshold [0,1] El modelo interpreta el texto que le damos para buscar la clase necesaria. Se puede escribir en text_promt cualquier cosa. Valores altos de text_threshold dan lugar a mayor exigencia del modelo para encontrar clases parecidas al texto dado. Valores bajos daran lugar a coincidencias más generales."
      ],
      "metadata": {
        "id": "Sh-Xp_Hl54rt"
      }
    },
    {
      "cell_type": "code",
      "source": [
        "box_threshold = 0.24\n",
        "text_threshold = 0.24"
      ],
      "metadata": {
        "id": "CHSpSu-B55OL"
      },
      "execution_count": null,
      "outputs": []
    },
    {
      "cell_type": "markdown",
      "source": [
        "(a) Si tenemos una única imagen"
      ],
      "metadata": {
        "id": "uChihQ1-6HV7"
      }
    },
    {
      "cell_type": "code",
      "source": [
        "output_name = \"mask\"\n",
        "sam.predict(image, text_prompt, box_threshold=box_threshold, text_threshold=text_threshold)"
      ],
      "metadata": {
        "id": "pDZm5MWx6I75"
      },
      "execution_count": null,
      "outputs": []
    },
    {
      "cell_type": "markdown",
      "source": [
        "(b) Si tenemos las imágenes separadas en partes"
      ],
      "metadata": {
        "id": "Fcz-pFR36A0I"
      }
    },
    {
      "cell_type": "code",
      "source": [
        "output_name = \"merged\"\n",
        "sam.predict_batch(\n",
        "    images='tiles',\n",
        "    out_dir='masks',\n",
        "    text_prompt=text_prompt,\n",
        "    box_threshold=box_threshold,\n",
        "    text_threshold=text_threshold,\n",
        "    mask_multiplier=255,\n",
        "    dtype='uint8',\n",
        "    merge=True,\n",
        "    verbose=True\n",
        "    )"
      ],
      "metadata": {
        "id": "oSPhK71Z5pyW"
      },
      "execution_count": null,
      "outputs": []
    },
    {
      "cell_type": "markdown",
      "source": [
        "##Visualización de resultados"
      ],
      "metadata": {
        "id": "eDLsfU1Azf48"
      }
    },
    {
      "cell_type": "code",
      "source": [
        "m.add_raster('masks/{}.tif'.format(output_name), cmap='Reds', nodata=0, layer_name='Mask')\n",
        "m.add_layer_manager()\n",
        "m"
      ],
      "metadata": {
        "id": "99GAPCdLzdgw"
      },
      "execution_count": null,
      "outputs": []
    },
    {
      "cell_type": "code",
      "source": [
        "titulo = 'hola'\n",
        "sam.show_anns(\n",
        "    cmap='Reds',\n",
        "    box_color='red',\n",
        "    title=titulo,\n",
        "    blend=True,\n",
        ")"
      ],
      "metadata": {
        "id": "7ir6ewM40EeL"
      },
      "execution_count": null,
      "outputs": []
    },
    {
      "cell_type": "code",
      "source": [
        "sam.show_anns(\n",
        "    cmap='Reds',\n",
        "    add_boxes=False,\n",
        "    alpha=0.5,\n",
        "    title=titulo,\n",
        ")"
      ],
      "metadata": {
        "id": "mwDpuf1f0JGo"
      },
      "execution_count": null,
      "outputs": []
    },
    {
      "cell_type": "code",
      "source": [
        "sam.show_anns(\n",
        "    cmap='Greys_r',\n",
        "    add_boxes=False,\n",
        "    alpha=1,\n",
        "    title=titulo,\n",
        "    blend=False,\n",
        "    output='masks/{}.tif'.format(output_name),\n",
        ")"
      ],
      "metadata": {
        "id": "NHUeqqqB0Wwo"
      },
      "execution_count": null,
      "outputs": []
    },
    {
      "cell_type": "code",
      "source": [
        "sam.raster_to_vector(\"masks/{}.tif\".format(output_name), \"masks/{}.shp\".format(output_name))"
      ],
      "metadata": {
        "id": "Es3d0uSj0iBh"
      },
      "execution_count": null,
      "outputs": []
    },
    {
      "cell_type": "code",
      "source": [
        "\n",
        "\n",
        "m.add_raster(\"masks/{}.tif\".format(output_name), layer_name=\"Pools\", palette=\"Blues\", opacity=0.5, nodata=0)\n",
        "style = {\n",
        "    \"color\": \"#3388ff\",\n",
        "    \"weight\": 2,\n",
        "    \"fillColor\": \"#7c4185\",\n",
        "    \"fillOpacity\": 0.5,\n",
        "}\n",
        "m.add_vector(\"masks/{}.shp\".format(output_name), layer_name=\"Vector\", style=style)\n",
        "m\n"
      ],
      "metadata": {
        "id": "_hepQ51E1bfJ"
      },
      "execution_count": null,
      "outputs": []
    }
  ]
}